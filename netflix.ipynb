{
 "cells": [
  {
   "cell_type": "code",
   "execution_count": 104,
   "id": "0763f939",
   "metadata": {},
   "outputs": [],
   "source": [
    "import pandas as pd\n",
    "from datetime import datetime as dt"
   ]
  },
  {
   "cell_type": "code",
   "execution_count": 3,
   "id": "0b50846f",
   "metadata": {},
   "outputs": [],
   "source": [
    "df=pd.read_csv('C:/Users/hp/OneDrive/Desktop/datasets/netflix_titles.csv')"
   ]
  },
  {
   "cell_type": "code",
   "execution_count": null,
   "id": "e8abcee4",
   "metadata": {},
   "outputs": [],
   "source": [
    "df.head(5)"
   ]
  },
  {
   "cell_type": "code",
   "execution_count": 6,
   "id": "7984e57e",
   "metadata": {},
   "outputs": [
    {
     "data": {
      "text/plain": [
       "(8807, 12)"
      ]
     },
     "execution_count": 6,
     "metadata": {},
     "output_type": "execute_result"
    }
   ],
   "source": [
    "df.shape"
   ]
  },
  {
   "cell_type": "code",
   "execution_count": null,
   "id": "2d0ea188",
   "metadata": {},
   "outputs": [],
   "source": [
    "df.info()\n"
   ]
  },
  {
   "cell_type": "code",
   "execution_count": 10,
   "id": "d0ff87f6",
   "metadata": {},
   "outputs": [
    {
     "data": {
      "text/plain": [
       "105684"
      ]
     },
     "execution_count": 10,
     "metadata": {},
     "output_type": "execute_result"
    }
   ],
   "source": [
    "df.size"
   ]
  },
  {
   "cell_type": "code",
   "execution_count": 19,
   "id": "400ec869",
   "metadata": {},
   "outputs": [
    {
     "data": {
      "text/plain": [
       "show_id            0\n",
       "type               0\n",
       "title              0\n",
       "director        2634\n",
       "cast             825\n",
       "country          831\n",
       "date_added         0\n",
       "release_year       0\n",
       "rating             4\n",
       "duration           3\n",
       "listed_in          0\n",
       "description        0\n",
       "dtype: int64"
      ]
     },
     "execution_count": 19,
     "metadata": {},
     "output_type": "execute_result"
    }
   ],
   "source": [
    "df.isnull().sum()"
   ]
  },
  {
   "cell_type": "code",
   "execution_count": null,
   "id": "ad5fe98b",
   "metadata": {},
   "outputs": [],
   "source": [
    "#converting into datetime format\n",
    "df['date_added']=pd.to_datetime(df['date_added'],format='mixed')"
   ]
  },
  {
   "cell_type": "code",
   "execution_count": 26,
   "id": "f795caf1",
   "metadata": {},
   "outputs": [
    {
     "data": {
      "text/plain": [
       "show_id                 object\n",
       "type                    object\n",
       "title                   object\n",
       "director                object\n",
       "cast                    object\n",
       "country                 object\n",
       "date_added      datetime64[ns]\n",
       "release_year             int64\n",
       "rating                  object\n",
       "duration                object\n",
       "listed_in               object\n",
       "description             object\n",
       "dtype: object"
      ]
     },
     "execution_count": 26,
     "metadata": {},
     "output_type": "execute_result"
    }
   ],
   "source": [
    "df.dtypes"
   ]
  },
  {
   "cell_type": "code",
   "execution_count": 28,
   "id": "d96691e6",
   "metadata": {},
   "outputs": [
    {
     "data": {
      "text/plain": [
       "show_id            0\n",
       "type               0\n",
       "title              0\n",
       "director        2634\n",
       "cast             825\n",
       "country          831\n",
       "date_added         0\n",
       "release_year       0\n",
       "rating             4\n",
       "duration           3\n",
       "listed_in          0\n",
       "description        0\n",
       "dtype: int64"
      ]
     },
     "execution_count": 28,
     "metadata": {},
     "output_type": "execute_result"
    }
   ],
   "source": [
    "df.isnull().sum()"
   ]
  },
  {
   "cell_type": "markdown",
   "id": "3dbe5266",
   "metadata": {},
   "source": [
    "since the duration is in the form of \"90 min\" its not a good practice for analysis\n",
    "And not delteing the duration column for future debugging"
   ]
  },
  {
   "cell_type": "code",
   "execution_count": 29,
   "id": "224d9490",
   "metadata": {},
   "outputs": [],
   "source": [
    "df[['duration_value', 'duration_unit']]=df['duration'].str.extract(r'(\\d+)\\s*(\\w+)')"
   ]
  },
  {
   "cell_type": "code",
   "execution_count": null,
   "id": "f67991e0",
   "metadata": {},
   "outputs": [],
   "source": [
    "print(df[['duration_value','duration_unit']])"
   ]
  },
  {
   "cell_type": "markdown",
   "id": "cb3b4aa7",
   "metadata": {},
   "source": [
    "removing the duplicated from the dataset"
   ]
  },
  {
   "cell_type": "code",
   "execution_count": null,
   "id": "b3ece468",
   "metadata": {},
   "outputs": [
    {
     "name": "stdout",
     "output_type": "stream",
     "text": [
      "before the removal of duplicates: 0\n"
     ]
    }
   ],
   "source": [
    "\n",
    "print(\"before the removal of duplicates:\",df.duplicated().sum())"
   ]
  },
  {
   "cell_type": "code",
   "execution_count": 36,
   "id": "afae9aa5",
   "metadata": {},
   "outputs": [],
   "source": [
    "df=df.drop_duplicates()"
   ]
  },
  {
   "cell_type": "code",
   "execution_count": 115,
   "id": "b995bbd0",
   "metadata": {},
   "outputs": [
    {
     "name": "stdout",
     "output_type": "stream",
     "text": [
      "after the removal of duplicates: 0\n"
     ]
    }
   ],
   "source": [
    "print(\"after the removal of duplicates:\",df.duplicated().sum())"
   ]
  },
  {
   "cell_type": "code",
   "execution_count": 38,
   "id": "687e77a1",
   "metadata": {},
   "outputs": [],
   "source": [
    "df.drop(columns=['description'],inplace=True)"
   ]
  },
  {
   "cell_type": "code",
   "execution_count": 71,
   "id": "c54c0eb8",
   "metadata": {},
   "outputs": [
    {
     "data": {
      "text/html": [
       "<div>\n",
       "<style scoped>\n",
       "    .dataframe tbody tr th:only-of-type {\n",
       "        vertical-align: middle;\n",
       "    }\n",
       "\n",
       "    .dataframe tbody tr th {\n",
       "        vertical-align: top;\n",
       "    }\n",
       "\n",
       "    .dataframe thead th {\n",
       "        text-align: right;\n",
       "    }\n",
       "</style>\n",
       "<table border=\"1\" class=\"dataframe\">\n",
       "  <thead>\n",
       "    <tr style=\"text-align: right;\">\n",
       "      <th></th>\n",
       "      <th>show_id</th>\n",
       "      <th>type</th>\n",
       "      <th>title</th>\n",
       "      <th>director</th>\n",
       "      <th>cast</th>\n",
       "      <th>country</th>\n",
       "      <th>date_added</th>\n",
       "      <th>release_year</th>\n",
       "      <th>rating</th>\n",
       "      <th>duration</th>\n",
       "      <th>listed_in</th>\n",
       "      <th>duration_value</th>\n",
       "      <th>duration_unit</th>\n",
       "    </tr>\n",
       "  </thead>\n",
       "  <tbody>\n",
       "    <tr>\n",
       "      <th>0</th>\n",
       "      <td>s1</td>\n",
       "      <td>Movie</td>\n",
       "      <td>Dick Johnson Is Dead</td>\n",
       "      <td>Not Specified</td>\n",
       "      <td>Not Specified</td>\n",
       "      <td>None</td>\n",
       "      <td>2021-09-25</td>\n",
       "      <td>2020</td>\n",
       "      <td>PG-13</td>\n",
       "      <td>90 min</td>\n",
       "      <td>Documentaries</td>\n",
       "      <td>90</td>\n",
       "      <td>min</td>\n",
       "    </tr>\n",
       "    <tr>\n",
       "      <th>1</th>\n",
       "      <td>s2</td>\n",
       "      <td>TV Show</td>\n",
       "      <td>Blood &amp; Water</td>\n",
       "      <td>Not Specified</td>\n",
       "      <td>Ama Qamata, Khosi Ngema, Gail Mabalane, Thaban...</td>\n",
       "      <td>None</td>\n",
       "      <td>2021-09-24</td>\n",
       "      <td>2021</td>\n",
       "      <td>TV-MA</td>\n",
       "      <td>2 Seasons</td>\n",
       "      <td>International TV Shows, TV Dramas, TV Mysteries</td>\n",
       "      <td>2</td>\n",
       "      <td>Seasons</td>\n",
       "    </tr>\n",
       "    <tr>\n",
       "      <th>2</th>\n",
       "      <td>s3</td>\n",
       "      <td>TV Show</td>\n",
       "      <td>Ganglands</td>\n",
       "      <td>Not Specified</td>\n",
       "      <td>Sami Bouajila, Tracy Gotoas, Samuel Jouy, Nabi...</td>\n",
       "      <td>None</td>\n",
       "      <td>2021-09-24</td>\n",
       "      <td>2021</td>\n",
       "      <td>TV-MA</td>\n",
       "      <td>1 Season</td>\n",
       "      <td>Crime TV Shows, International TV Shows, TV Act...</td>\n",
       "      <td>1</td>\n",
       "      <td>Season</td>\n",
       "    </tr>\n",
       "    <tr>\n",
       "      <th>3</th>\n",
       "      <td>s4</td>\n",
       "      <td>TV Show</td>\n",
       "      <td>Jailbirds New Orleans</td>\n",
       "      <td>Not Specified</td>\n",
       "      <td>Not Specified</td>\n",
       "      <td>None</td>\n",
       "      <td>2021-09-24</td>\n",
       "      <td>2021</td>\n",
       "      <td>TV-MA</td>\n",
       "      <td>1 Season</td>\n",
       "      <td>Docuseries, Reality TV</td>\n",
       "      <td>1</td>\n",
       "      <td>Season</td>\n",
       "    </tr>\n",
       "    <tr>\n",
       "      <th>4</th>\n",
       "      <td>s5</td>\n",
       "      <td>TV Show</td>\n",
       "      <td>Kota Factory</td>\n",
       "      <td>Not Specified</td>\n",
       "      <td>Mayur More, Jitendra Kumar, Ranjan Raj, Alam K...</td>\n",
       "      <td>None</td>\n",
       "      <td>2021-09-24</td>\n",
       "      <td>2021</td>\n",
       "      <td>TV-MA</td>\n",
       "      <td>2 Seasons</td>\n",
       "      <td>International TV Shows, Romantic TV Shows, TV ...</td>\n",
       "      <td>2</td>\n",
       "      <td>Seasons</td>\n",
       "    </tr>\n",
       "  </tbody>\n",
       "</table>\n",
       "</div>"
      ],
      "text/plain": [
       "  show_id     type                  title       director  \\\n",
       "0      s1    Movie   Dick Johnson Is Dead  Not Specified   \n",
       "1      s2  TV Show          Blood & Water  Not Specified   \n",
       "2      s3  TV Show              Ganglands  Not Specified   \n",
       "3      s4  TV Show  Jailbirds New Orleans  Not Specified   \n",
       "4      s5  TV Show           Kota Factory  Not Specified   \n",
       "\n",
       "                                                cast country date_added  \\\n",
       "0                                      Not Specified    None 2021-09-25   \n",
       "1  Ama Qamata, Khosi Ngema, Gail Mabalane, Thaban...    None 2021-09-24   \n",
       "2  Sami Bouajila, Tracy Gotoas, Samuel Jouy, Nabi...    None 2021-09-24   \n",
       "3                                      Not Specified    None 2021-09-24   \n",
       "4  Mayur More, Jitendra Kumar, Ranjan Raj, Alam K...    None 2021-09-24   \n",
       "\n",
       "   release_year rating   duration  \\\n",
       "0          2020  PG-13     90 min   \n",
       "1          2021  TV-MA  2 Seasons   \n",
       "2          2021  TV-MA   1 Season   \n",
       "3          2021  TV-MA   1 Season   \n",
       "4          2021  TV-MA  2 Seasons   \n",
       "\n",
       "                                           listed_in duration_value  \\\n",
       "0                                      Documentaries             90   \n",
       "1    International TV Shows, TV Dramas, TV Mysteries              2   \n",
       "2  Crime TV Shows, International TV Shows, TV Act...              1   \n",
       "3                             Docuseries, Reality TV              1   \n",
       "4  International TV Shows, Romantic TV Shows, TV ...              2   \n",
       "\n",
       "  duration_unit  \n",
       "0           min  \n",
       "1       Seasons  \n",
       "2        Season  \n",
       "3        Season  \n",
       "4       Seasons  "
      ]
     },
     "execution_count": 71,
     "metadata": {},
     "output_type": "execute_result"
    }
   ],
   "source": [
    "df.head()"
   ]
  },
  {
   "cell_type": "markdown",
   "id": "aa9b9018",
   "metadata": {},
   "source": [
    "Standardizing the values of director based on the pairs of director and cast in the dataset\n",
    "And only the values that are repeated thrice"
   ]
  },
  {
   "cell_type": "code",
   "execution_count": 44,
   "id": "239fbb6b",
   "metadata": {},
   "outputs": [],
   "source": [
    "# Drop rows where either column is missing to avoid NaN issues\n",
    "valid_df = df.dropna(subset=['director', 'cast'])\n",
    "\n",
    "# Get frequent (cast -> director) mappings\n",
    "cast_director_counts = valid_df.groupby(['cast', 'director']).size()\n",
    "cast_director_counts = cast_director_counts[cast_director_counts >= 3]\n",
    "\n",
    "# Get the most frequent director for each cast\n",
    "cast_to_director = cast_director_counts.groupby(level=0).idxmax().apply(lambda x: x[1])\n",
    "\n",
    "# Fill in missing directors using this mapping\n",
    "df['director'] = df.apply(\n",
    "    lambda row: cast_to_director[row['cast']] if pd.isna(row['director']) and row['cast'] in cast_to_director else row['director'],\n",
    "    axis=1\n",
    ")\n"
   ]
  },
  {
   "cell_type": "code",
   "execution_count": 43,
   "id": "0acd1f17",
   "metadata": {},
   "outputs": [
    {
     "data": {
      "text/plain": [
       "show_id             0\n",
       "type                0\n",
       "title               0\n",
       "director            0\n",
       "cast              825\n",
       "country           831\n",
       "date_added          0\n",
       "release_year        0\n",
       "rating              4\n",
       "duration            3\n",
       "listed_in           0\n",
       "duration_value      3\n",
       "duration_unit       3\n",
       "dtype: int64"
      ]
     },
     "execution_count": 43,
     "metadata": {},
     "output_type": "execute_result"
    }
   ],
   "source": [
    "df.isnull().sum()"
   ]
  },
  {
   "cell_type": "markdown",
   "id": "6cba4066",
   "metadata": {},
   "source": [
    "Here filling the remaining the Nan values are filled wiht \"not specified\""
   ]
  },
  {
   "cell_type": "code",
   "execution_count": 56,
   "id": "cd41d272",
   "metadata": {},
   "outputs": [],
   "source": [
    "#filling the missing values in the 'director' column with 'not specified'\n",
    "df['director'] = df['director'].fillna('Not Specified')\n"
   ]
  },
  {
   "cell_type": "code",
   "execution_count": 47,
   "id": "c7bc2869",
   "metadata": {},
   "outputs": [],
   "source": [
    "directors = df['director']\n",
    "countries = df['country']"
   ]
  },
  {
   "cell_type": "code",
   "execution_count": 49,
   "id": "e5b626d9",
   "metadata": {},
   "outputs": [],
   "source": [
    "pairs = zip(directors, countries)\n",
    "dir_cntry = dict(list(pairs))"
   ]
  },
  {
   "cell_type": "code",
   "execution_count": null,
   "id": "28e7c09f",
   "metadata": {},
   "outputs": [],
   "source": [
    "for director, country in dir_cntry.items():\n",
    "    df.loc[(df['country'].isna()) & (df['director'] == director), 'country'] = country\n"
   ]
  },
  {
   "cell_type": "code",
   "execution_count": null,
   "id": "dda6ce83",
   "metadata": {},
   "outputs": [],
   "source": [
    "df.isnull().sum()"
   ]
  },
  {
   "cell_type": "code",
   "execution_count": 74,
   "id": "942ad0c7",
   "metadata": {},
   "outputs": [],
   "source": [
    "#filling the missing values in the 'country' column\n",
    "df['country'] = df['country'].fillna('Not Specified')"
   ]
  },
  {
   "cell_type": "code",
   "execution_count": 77,
   "id": "52e56b5d",
   "metadata": {},
   "outputs": [],
   "source": [
    "df['cast'] = df['cast'].fillna('Not Specified')"
   ]
  },
  {
   "cell_type": "code",
   "execution_count": 85,
   "id": "ea618bbc",
   "metadata": {},
   "outputs": [],
   "source": [
    "df['director']=df['director'].fillna('Not specifited')"
   ]
  },
  {
   "cell_type": "markdown",
   "id": "91e3406e",
   "metadata": {},
   "source": [
    "Dropping the columns that are Nan values using the bool method "
   ]
  },
  {
   "cell_type": "code",
   "execution_count": 87,
   "id": "953fe77d",
   "metadata": {},
   "outputs": [],
   "source": [
    "df = df[df['date_added'].notna()]\n"
   ]
  },
  {
   "cell_type": "code",
   "execution_count": null,
   "id": "182a5368",
   "metadata": {},
   "outputs": [],
   "source": [
    "df['date_added'].isna().sum()"
   ]
  },
  {
   "cell_type": "code",
   "execution_count": 89,
   "id": "7a17bbe3",
   "metadata": {},
   "outputs": [],
   "source": [
    "df=df[df['rating'].notna()]"
   ]
  },
  {
   "cell_type": "code",
   "execution_count": null,
   "id": "e7e6a238",
   "metadata": {},
   "outputs": [],
   "source": [
    "df['rating'].isna().sum()"
   ]
  },
  {
   "cell_type": "code",
   "execution_count": 92,
   "id": "b64af04c",
   "metadata": {},
   "outputs": [],
   "source": [
    "df=df[df['duration'].notna()]"
   ]
  },
  {
   "cell_type": "markdown",
   "id": "a131b57d",
   "metadata": {},
   "source": [
    "finally checking any null values in the dataset"
   ]
  },
  {
   "cell_type": "code",
   "execution_count": 102,
   "id": "3149f98d",
   "metadata": {},
   "outputs": [
    {
     "data": {
      "text/plain": [
       "show_id           0\n",
       "type              0\n",
       "title             0\n",
       "director          0\n",
       "cast              0\n",
       "country           0\n",
       "date_added        0\n",
       "release_year      0\n",
       "rating            0\n",
       "duration          0\n",
       "listed_in         0\n",
       "duration_value    0\n",
       "duration_unit     0\n",
       "dtype: int64"
      ]
     },
     "execution_count": 102,
     "metadata": {},
     "output_type": "execute_result"
    }
   ],
   "source": [
    "df.isna().sum()"
   ]
  },
  {
   "cell_type": "code",
   "execution_count": 101,
   "id": "46e4efb1",
   "metadata": {},
   "outputs": [],
   "source": [
    "df['country']=df['country'].fillna('Not specified')"
   ]
  },
  {
   "cell_type": "markdown",
   "id": "780df7e8",
   "metadata": {},
   "source": [
    "The below cells are to find out the incosistencies \n",
    "Here there are relased years that are preceeded that the date_added\n",
    " "
   ]
  },
  {
   "cell_type": "code",
   "execution_count": 105,
   "id": "e4a1e5a3",
   "metadata": {},
   "outputs": [
    {
     "data": {
      "text/plain": [
       "14"
      ]
     },
     "execution_count": 105,
     "metadata": {},
     "output_type": "execute_result"
    }
   ],
   "source": [
    "sum(df['date_added'].dt.year<df['release_year'])"
   ]
  },
  {
   "cell_type": "code",
   "execution_count": 112,
   "id": "ce7f3c73",
   "metadata": {},
   "outputs": [
    {
     "data": {
      "text/html": [
       "<div>\n",
       "<style scoped>\n",
       "    .dataframe tbody tr th:only-of-type {\n",
       "        vertical-align: middle;\n",
       "    }\n",
       "\n",
       "    .dataframe tbody tr th {\n",
       "        vertical-align: top;\n",
       "    }\n",
       "\n",
       "    .dataframe thead th {\n",
       "        text-align: right;\n",
       "    }\n",
       "</style>\n",
       "<table border=\"1\" class=\"dataframe\">\n",
       "  <thead>\n",
       "    <tr style=\"text-align: right;\">\n",
       "      <th></th>\n",
       "      <th>date_added</th>\n",
       "      <th>release_year</th>\n",
       "    </tr>\n",
       "  </thead>\n",
       "  <tbody>\n",
       "    <tr>\n",
       "      <th>1551</th>\n",
       "      <td>2020-12-14</td>\n",
       "      <td>2021</td>\n",
       "    </tr>\n",
       "    <tr>\n",
       "      <th>1696</th>\n",
       "      <td>2020-11-15</td>\n",
       "      <td>2021</td>\n",
       "    </tr>\n",
       "    <tr>\n",
       "      <th>2920</th>\n",
       "      <td>2020-02-13</td>\n",
       "      <td>2021</td>\n",
       "    </tr>\n",
       "    <tr>\n",
       "      <th>3168</th>\n",
       "      <td>2019-12-06</td>\n",
       "      <td>2020</td>\n",
       "    </tr>\n",
       "    <tr>\n",
       "      <th>3287</th>\n",
       "      <td>2019-11-13</td>\n",
       "      <td>2020</td>\n",
       "    </tr>\n",
       "    <tr>\n",
       "      <th>3369</th>\n",
       "      <td>2019-10-25</td>\n",
       "      <td>2020</td>\n",
       "    </tr>\n",
       "    <tr>\n",
       "      <th>3433</th>\n",
       "      <td>2019-10-11</td>\n",
       "      <td>2020</td>\n",
       "    </tr>\n",
       "    <tr>\n",
       "      <th>4844</th>\n",
       "      <td>2018-05-30</td>\n",
       "      <td>2019</td>\n",
       "    </tr>\n",
       "    <tr>\n",
       "      <th>4845</th>\n",
       "      <td>2018-05-29</td>\n",
       "      <td>2019</td>\n",
       "    </tr>\n",
       "    <tr>\n",
       "      <th>5394</th>\n",
       "      <td>2017-07-01</td>\n",
       "      <td>2018</td>\n",
       "    </tr>\n",
       "    <tr>\n",
       "      <th>5658</th>\n",
       "      <td>2016-12-23</td>\n",
       "      <td>2018</td>\n",
       "    </tr>\n",
       "    <tr>\n",
       "      <th>5677</th>\n",
       "      <td>2016-12-13</td>\n",
       "      <td>2017</td>\n",
       "    </tr>\n",
       "    <tr>\n",
       "      <th>7063</th>\n",
       "      <td>2018-10-26</td>\n",
       "      <td>2019</td>\n",
       "    </tr>\n",
       "    <tr>\n",
       "      <th>7112</th>\n",
       "      <td>2013-03-31</td>\n",
       "      <td>2016</td>\n",
       "    </tr>\n",
       "  </tbody>\n",
       "</table>\n",
       "</div>"
      ],
      "text/plain": [
       "     date_added  release_year\n",
       "1551 2020-12-14          2021\n",
       "1696 2020-11-15          2021\n",
       "2920 2020-02-13          2021\n",
       "3168 2019-12-06          2020\n",
       "3287 2019-11-13          2020\n",
       "3369 2019-10-25          2020\n",
       "3433 2019-10-11          2020\n",
       "4844 2018-05-30          2019\n",
       "4845 2018-05-29          2019\n",
       "5394 2017-07-01          2018\n",
       "5658 2016-12-23          2018\n",
       "5677 2016-12-13          2017\n",
       "7063 2018-10-26          2019\n",
       "7112 2013-03-31          2016"
      ]
     },
     "execution_count": 112,
     "metadata": {},
     "output_type": "execute_result"
    }
   ],
   "source": [
    "df.loc[df['date_added'].dt.year < df['release_year'], ['date_added', 'release_year']]"
   ]
  },
  {
   "cell_type": "code",
   "execution_count": 120,
   "id": "571a5ad4",
   "metadata": {},
   "outputs": [
    {
     "name": "stdout",
     "output_type": "stream",
     "text": [
      "\n",
      "=== CLEANED DATASET SAVED TO: c:/users/hp/onedrive/desktop/datasets/cleaned_netflix.csv ===\n"
     ]
    }
   ],
   "source": [
    "import os\n",
    "\n",
    "output_path = 'c:/users/hp/onedrive/desktop/datasets/cleaned_netflix.csv'\n",
    "os.makedirs(os.path.dirname(output_path), exist_ok=True)\n",
    "df.to_csv(output_path, index=False)\n",
    "print(f\"\\n=== CLEANED DATASET SAVED TO: {output_path} ===\")"
   ]
  },
  {
   "cell_type": "code",
   "execution_count": null,
   "id": "7e5a8712",
   "metadata": {},
   "outputs": [],
   "source": []
  }
 ],
 "metadata": {
  "kernelspec": {
   "display_name": "base",
   "language": "python",
   "name": "python3"
  },
  "language_info": {
   "codemirror_mode": {
    "name": "ipython",
    "version": 3
   },
   "file_extension": ".py",
   "mimetype": "text/x-python",
   "name": "python",
   "nbconvert_exporter": "python",
   "pygments_lexer": "ipython3",
   "version": "3.12.7"
  }
 },
 "nbformat": 4,
 "nbformat_minor": 5
}
